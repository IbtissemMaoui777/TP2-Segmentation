{
 "cells": [
  {
   "cell_type": "markdown",
   "metadata": {
    "id": "Ewff0wPmQFnv"
   },
   "source": [
    "<br />\n",
    "<center><font size='6px' color='#mmvvbb'><b>TP n°2 : Segmentation d'une image</b></font>\n",
    "<br />\n",
    "<br />\n",
    "<br />\n",
    "<font size='5px' color='#ccddvv'><b>Ibtissem Maoui</b></font>\n",
    "<br />\n",
    "<br />\n",
    "<font size='3px' color='#ccddvv'><b>G1</b></font>\n",
    "<br />\n",
    "<br />\n",
    "</center>"
   ]
  },
  {
   "cell_type": "markdown",
   "metadata": {
    "id": "JccCvgj2QFnx"
   },
   "source": [
    "<h2><font color='#d70e76'>I - L'algorithme de K-means : Clustering</font></h2>"
   ]
  },
  {
   "cell_type": "code",
   "execution_count": null,
   "metadata": {
    "id": "YRA-2OcvQFnz",
    "outputId": "25111518-13a6-4f05-9455-3508597a5520"
   },
   "outputs": [],
   "source": [
    "import numpy as np\n",
    "import cv2\n",
    "from sklearn.cluster import KMeans\n",
    "from sklearn.cluster import MiniBatchKMeans\n",
    "import skimage.io\n",
    "import matplotlib.pyplot as plt\n",
    "\n",
    "image = cv2.imread('militaire.jpg')\n",
    "(h1, w1) = image.shape[:2]\n",
    "\n",
    "image = cv2.cvtColor(image, cv2.COLOR_BGR2LAB)\n",
    "\n",
    "image = image.reshape((image.shape[0] * image.shape[1], 3))\n",
    "\n",
    "clt = KMeans(n_clusters = 4)\n",
    "\n",
    "labels = clt.fit_predict(image)\n",
    "quant = clt.cluster_centers_.astype(\"uint8\")[labels]\n",
    "\n",
    "#reshape the feature vectors to images\n",
    "quant = quant.reshape((h1, w1, 3))\n",
    "image = image.reshape((h1, w1, 3))\n",
    "\n",
    "# convert from L*a*b* to RGB\n",
    "quant = cv2.cvtColor(quant, cv2.COLOR_LAB2BGR)\n",
    "image = cv2.cvtColor(image, cv2.COLOR_LAB2BGR)\n",
    "\n",
    "plt.figure(figsize=(10,11))\n",
    "cv2.imwrite('militaire12.jpg', quant)\n",
    "plt.imshow(image)\n",
    "\n",
    "cv2.imread('militaire.jpg')\n",
    "cv2.waitKey(0)\n",
    "cv2.destroyAllWindows()\n",
    "plt.show()"
   ]
  },
  {
   "cell_type": "code",
   "execution_count": null,
   "metadata": {},
   "outputs": [],
   "source": [
    "!pip install opencv-python"
   ]
  },
  {
   "cell_type": "markdown",
   "metadata": {
    "id": "JECjUCI7QFoJ"
   },
   "source": [
    "<h2><font color='#d70e76'>II - Le bruit sur l'image</font></h2>"
   ]
  },
  {
   "cell_type": "code",
   "execution_count": null,
   "metadata": {
    "id": "fFfl12ThQFoK",
    "outputId": "e1be8c38-63ab-40d4-96b1-81db570ff7cb"
   },
   "outputs": [],
   "source": [
    "import skimage.io\n",
    "import matplotlib.pyplot as plt\n",
    "\n",
    "img_path=\"militaire.jpg\"\n",
    "img = skimage.io.imread(img_path)/255.0\n",
    "\n",
    "def plotnoise(img, mode, r, c, i):\n",
    "    plt.subplot(r,c,i)\n",
    "    if mode is not None:\n",
    "        gimg = skimage.util.random_noise(img, mode=mode)\n",
    "        plt.imshow(gimg)\n",
    "    else:\n",
    "        plt.imshow(img)\n",
    "    plt.title(mode)\n",
    "    plt.axis(\"off\")\n",
    "\n",
    "plt.figure(figsize=(18,24))\n",
    "r=4\n",
    "c=2\n",
    "plotnoise(img, \"Gaussian\", r,c,1)\n",
    "plotnoise(img, \"Localvar\", r,c,2)\n",
    "plotnoise(img, \"Poisson\", r,c,3)\n",
    "plotnoise(img, \"Salt\", r,c,4)\n",
    "plotnoise(img, \"Pepper\", r,c,5)\n",
    "plotnoise(img, \"S&P\", r,c,6)\n",
    "plotnoise(img, \"Speckle\", r,c,7)\n",
    "plotnoise(img, None, r,c,8)\n",
    "plt.show()"
   ]
  },
  {
   "cell_type": "markdown",
   "metadata": {
    "id": "Anl9j7qgQFoQ"
   },
   "source": [
    "<h2><font color='#d70e76'>III - Débruitage</font></h2> "
   ]
  },
  {
   "cell_type": "code",
   "execution_count": null,
   "metadata": {
    "id": "t8uJglk8QFoT",
    "outputId": "7654544d-3b61-49cf-8c05-e3d099785cd8"
   },
   "outputs": [],
   "source": [
    "images = cv2.imread('militaire.jpg')\n",
    "b,g,r = cv2.split(images)          \n",
    "rgb_img = cv2.merge([r,g,b])\n",
    "\n",
    "def plotdenoising(rgb_img, mode, b, g, r):\n",
    "    plt.subplot(b,g,r)\n",
    "    if mode is not None:\n",
    "        dst = cv2.fastNlMeansDenoisingColored(rgb_img,None,10,10,7,21)        \n",
    "        plt.imshow(dst)\n",
    "        b,g,r = cv2.split(dst)      \n",
    "        rgb_dst = cv2.merge([r,g,b])\n",
    "        \n",
    "    if mode is None:\n",
    "        plt.imshow(rgb_img)\n",
    "    plt.title(mode)\n",
    "    plt.axis(\"off\")     \n",
    "\n",
    "plt.figure(figsize=(18,24))\n",
    "b=4\n",
    "g=2\n",
    "plotdenoising(rgb_dst, \"Gaussian\", b,g,1)\n",
    "plotdenoising(rgb_dst, \"Localvar\", b,g,2)\n",
    "plotdenoising(rgb_dst, \"Poisson\", b,g,3)\n",
    "plotdenoising(rgb_dst, \"Salt\", b,g,4)\n",
    "plotdenoising(rgb_dst, \"Pepper\", b,g,5)\n",
    "plotdenoising(rgb_dst, \"S&P\", b,g,6)\n",
    "plotdenoising(rgb_dst, \"Speckle\", b,g,7)\n",
    "plotdenoising(rgb_dst, None, b,g,8)\n",
    "plt.show()"
   ]
  },
  {
   "cell_type": "markdown",
   "metadata": {
    "id": "mFgzJeI8QFoh"
   },
   "source": [
    "<h2><font color='#d70e76'> IV - La comparaison entre l'image originale et l'image aprés le débruitage</font></h2>"
   ]
  },
  {
   "cell_type": "code",
   "execution_count": null,
   "metadata": {
    "id": "3VF8OOEMQFoj",
    "outputId": "af155894-6cc5-432f-ec77-e04000b826d2"
   },
   "outputs": [],
   "source": [
    "images = cv2.imread('militaire.jpg')\n",
    "b,g,r = cv2.split(images)  \n",
    "rgb_img = cv2.merge([r,g,b])     \n",
    "\n",
    "#Denoising\n",
    "dst = cv2.fastNlMeansDenoisingColored(images,None,10,10,7,21)\n",
    "\n",
    "b,g,r = cv2.split(dst)        \n",
    "rgb_dst = cv2.merge([r,g,b])     \n",
    "\n",
    "plt.figure(figsize=(9,13))\n",
    "plt.subplot(211),plt.imshow(rgb_img)\n",
    "plt.subplot(212),plt.imshow(rgb_dst)\n",
    "plt.show()"
   ]
  },
  {
   "cell_type": "markdown",
   "metadata": {
    "id": "ejZ82iFGQFoo"
   },
   "source": [
    "<h2><font color='#d70e76'>V - Les filters sur l'image</font></h2>"
   ]
  },
  {
   "cell_type": "code",
   "execution_count": null,
   "metadata": {
    "id": "CGZ6mioBQFop"
   },
   "outputs": [],
   "source": [
    "img = cv2.imread(\"militaire.jpg\")\n",
    "\n",
    "averaging = cv2.blur(img, (21, 21))\n",
    "gaussian = cv2.GaussianBlur(img, (21, 21), 0)\n",
    "median = cv2.medianBlur(img, 5)\n",
    "bilateral = cv2.bilateralFilter(img, 9, 350, 350)\n",
    "\n",
    "cv2.imshow(\"Original image\", img)\n",
    "cv2.imshow(\"Averaging\", averaging)\n",
    "cv2.imshow(\"Gaussian\", gaussian)\n",
    "cv2.imshow(\"Median\", median)\n",
    "cv2.imshow(\"Bilateral\", bilateral)\n",
    "\n",
    "cv2.imread('place.jpg')\n",
    "cv2.waitKey(0)\n",
    "cv2.destroyAllWindows()"
   ]
  },
  {
   "cell_type": "code",
   "execution_count": null,
   "metadata": {
    "id": "ixpJb6exQFot",
    "outputId": "46f6969b-effc-489f-d80e-c6849e64cce7"
   },
   "outputs": [],
   "source": [
    "%load_ext watermark\n",
    "%watermark -v -m -p numpy,matplotlib,cv2,cluster,imageio,scikit-image,watermark"
   ]
  },
  {
   "cell_type": "code",
   "execution_count": null,
   "metadata": {
    "id": "nAvE1OFAQFoy",
    "outputId": "b44dd72f-2592-498b-bd44-d51df51e95fd"
   },
   "outputs": [],
   "source": [
    "pip list"
   ]
  },
  {
   "cell_type": "code",
   "execution_count": null,
   "metadata": {
    "id": "NK938hpHQFo2"
   },
   "outputs": [],
   "source": [
    "conda env export > environment.yaml"
   ]
  }
 ],
 "metadata": {
  "colab": {
   "name": "TP_N°2_Segmentation.ipynb",
   "provenance": []
  },
  "kernelspec": {
   "display_name": "Python 3",
   "language": "python",
   "name": "python3"
  },
  "language_info": {
   "codemirror_mode": {
    "name": "ipython",
    "version": 3
   },
   "file_extension": ".py",
   "mimetype": "text/x-python",
   "name": "python",
   "nbconvert_exporter": "python",
   "pygments_lexer": "ipython3",
   "version": "3.8.3"
  }
 },
 "nbformat": 4,
 "nbformat_minor": 4
}
